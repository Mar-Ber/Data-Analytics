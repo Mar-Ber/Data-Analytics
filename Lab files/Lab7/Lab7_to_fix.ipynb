{
 "cells": [
  {
   "cell_type": "code",
   "execution_count": 1,
   "metadata": {},
   "outputs": [],
   "source": [
    "from cmdstanpy import CmdStanModel\n",
    "\n",
    "import arviz as az\n",
    "import numpy as np\n",
    "import scipy.stats as stats\n",
    "\n",
    "import pandas as pd\n",
    "\n",
    "import matplotlib.pyplot as plt\n",
    "import matplotlib as mpl"
   ]
  },
  {
   "cell_type": "code",
   "execution_count": 2,
   "metadata": {},
   "outputs": [],
   "source": [
    "F = 6\n",
    "L = 10\n",
    "N = (F+L)*100\n",
    "data = dict(N=N)"
   ]
  },
  {
   "cell_type": "markdown",
   "metadata": {},
   "source": [
    "### Exercise 1"
   ]
  },
  {
   "cell_type": "code",
   "execution_count": 3,
   "metadata": {},
   "outputs": [
    {
     "name": "stderr",
     "output_type": "stream",
     "text": [
      "INFO:cmdstanpy:found newer exe file, not recompiling\n",
      "INFO:cmdstanpy:CmdStan start processing\n"
     ]
    },
    {
     "data": {
      "application/vnd.jupyter.widget-view+json": {
       "model_id": "e929077634dc4f4fa2f24ce823bec874",
       "version_major": 2,
       "version_minor": 0
      },
      "text/plain": [
       "chain 1 |          | 00:00 Status"
      ]
     },
     "metadata": {},
     "output_type": "display_data"
    },
    {
     "name": "stdout",
     "output_type": "stream",
     "text": [
      "                                                                                "
     ]
    },
    {
     "name": "stderr",
     "output_type": "stream",
     "text": [
      "INFO:cmdstanpy:CmdStan done processing.\n"
     ]
    },
    {
     "name": "stdout",
     "output_type": "stream",
     "text": [
      "\n"
     ]
    }
   ],
   "source": [
    "model_1 = CmdStanModel(stan_file = 'code_1.stan')\n",
    "result_1 = model_1.sample(data = data, fixed_param=True)"
   ]
  },
  {
   "cell_type": "code",
   "execution_count": 4,
   "metadata": {},
   "outputs": [
    {
     "name": "stderr",
     "output_type": "stream",
     "text": [
      "INFO:cmdstanpy:found newer exe file, not recompiling\n",
      "INFO:cmdstanpy:CmdStan start processing\n"
     ]
    },
    {
     "data": {
      "application/vnd.jupyter.widget-view+json": {
       "model_id": "3676811956e64f51b5a79a11854d0f99",
       "version_major": 2,
       "version_minor": 0
      },
      "text/plain": [
       "chain 1 |          | 00:00 Status"
      ]
     },
     "metadata": {},
     "output_type": "display_data"
    },
    {
     "name": "stdout",
     "output_type": "stream",
     "text": [
      "                                                                                "
     ]
    },
    {
     "name": "stderr",
     "output_type": "stream",
     "text": [
      "INFO:cmdstanpy:CmdStan done processing.\n"
     ]
    },
    {
     "name": "stdout",
     "output_type": "stream",
     "text": [
      "\n"
     ]
    }
   ],
   "source": [
    "model_2 = CmdStanModel(stan_file = 'code_2.stan')\n",
    "result_2 = model_2.sample(data = data, fixed_param=True)"
   ]
  },
  {
   "cell_type": "code",
   "execution_count": 5,
   "metadata": {},
   "outputs": [],
   "source": [
    "y1 = result_1.stan_variable('y')\n",
    "y2 = result_2.stan_variable('y')\n",
    "\n",
    "data_y1 = dict(N = N, y = y1[0])\n",
    "data_y2 = dict(N = N, y = y2[0])"
   ]
  },
  {
   "cell_type": "markdown",
   "metadata": {},
   "source": [
    "### Exercise 2"
   ]
  },
  {
   "cell_type": "code",
   "execution_count": 6,
   "metadata": {},
   "outputs": [
    {
     "name": "stderr",
     "output_type": "stream",
     "text": [
      "INFO:cmdstanpy:found newer exe file, not recompiling\n",
      "INFO:cmdstanpy:CmdStan start processing\n"
     ]
    },
    {
     "data": {
      "application/vnd.jupyter.widget-view+json": {
       "model_id": "fef96d7de75f47d09402a80c48f99e95",
       "version_major": 2,
       "version_minor": 0
      },
      "text/plain": [
       "chain 1 |          | 00:00 Status"
      ]
     },
     "metadata": {},
     "output_type": "display_data"
    },
    {
     "name": "stdout",
     "output_type": "stream",
     "text": [
      "                                                                                "
     ]
    },
    {
     "name": "stderr",
     "output_type": "stream",
     "text": [
      "INFO:cmdstanpy:CmdStan done processing.\n"
     ]
    },
    {
     "name": "stdout",
     "output_type": "stream",
     "text": [
      "\n"
     ]
    }
   ],
   "source": [
    "model_3 = CmdStanModel(stan_file = 'code_3.stan')\n",
    "result_3_1 = model_3.sample(data = data_y1, fixed_param=True)"
   ]
  },
  {
   "cell_type": "code",
   "execution_count": 7,
   "metadata": {},
   "outputs": [
    {
     "name": "stderr",
     "output_type": "stream",
     "text": [
      "INFO:cmdstanpy:found newer exe file, not recompiling\n",
      "INFO:cmdstanpy:CmdStan start processing\n"
     ]
    },
    {
     "data": {
      "application/vnd.jupyter.widget-view+json": {
       "model_id": "a625247c12a249aa9834c5ea546afcdc",
       "version_major": 2,
       "version_minor": 0
      },
      "text/plain": [
       "chain 1 |          | 00:00 Status"
      ]
     },
     "metadata": {},
     "output_type": "display_data"
    },
    {
     "name": "stdout",
     "output_type": "stream",
     "text": [
      "                                                                                "
     ]
    },
    {
     "name": "stderr",
     "output_type": "stream",
     "text": [
      "INFO:cmdstanpy:CmdStan done processing.\n"
     ]
    },
    {
     "name": "stdout",
     "output_type": "stream",
     "text": [
      "\n"
     ]
    }
   ],
   "source": [
    "model_4 = CmdStanModel(stan_file = 'code_4.stan')\n",
    "result_4_1 = model_3.sample(data = data_y1, fixed_param=True)"
   ]
  },
  {
   "cell_type": "code",
   "execution_count": 8,
   "metadata": {},
   "outputs": [
    {
     "name": "stderr",
     "output_type": "stream",
     "text": [
      "E:\\Programowanie\\Anaconda\\envs\\marcinbereznicki\\lib\\site-packages\\arviz\\stats\\stats.py:145: UserWarning: The default method used to estimate the weights for each model,has changed from BB-pseudo-BMA to stacking\n",
      "  warnings.warn(\n"
     ]
    },
    {
     "ename": "TypeError",
     "evalue": "log likelihood not found in inference data object",
     "output_type": "error",
     "traceback": [
      "\u001b[1;31m---------------------------------------------------------------------------\u001b[0m",
      "\u001b[1;31mTypeError\u001b[0m                                 Traceback (most recent call last)",
      "\u001b[1;32me:\\Programowanie\\Microsoft VS Code Projects\\Data Analytics\\Lab_7\\Lab7_Marcin_Bereznicki.ipynb Cell 10'\u001b[0m in \u001b[0;36m<cell line: 2>\u001b[1;34m()\u001b[0m\n\u001b[0;32m      <a href='vscode-notebook-cell:/e%3A/Programowanie/Microsoft%20VS%20Code%20Projects/Data%20Analytics/Lab_7/Lab7_Marcin_Bereznicki.ipynb#ch0000009?line=0'>1</a>\u001b[0m data_com \u001b[39m=\u001b[39m \u001b[39mdict\u001b[39m(r3 \u001b[39m=\u001b[39m result_3_1, r4 \u001b[39m=\u001b[39m result_4_1)\n\u001b[1;32m----> <a href='vscode-notebook-cell:/e%3A/Programowanie/Microsoft%20VS%20Code%20Projects/Data%20Analytics/Lab_7/Lab7_Marcin_Bereznicki.ipynb#ch0000009?line=1'>2</a>\u001b[0m loo \u001b[39m=\u001b[39m az\u001b[39m.\u001b[39;49mcompare(data_com, ic \u001b[39m=\u001b[39;49m \u001b[39m\"\u001b[39;49m\u001b[39mloo\u001b[39;49m\u001b[39m\"\u001b[39;49m)\n\u001b[0;32m      <a href='vscode-notebook-cell:/e%3A/Programowanie/Microsoft%20VS%20Code%20Projects/Data%20Analytics/Lab_7/Lab7_Marcin_Bereznicki.ipynb#ch0000009?line=3'>4</a>\u001b[0m \u001b[39mprint\u001b[39m(loo)\n\u001b[0;32m      <a href='vscode-notebook-cell:/e%3A/Programowanie/Microsoft%20VS%20Code%20Projects/Data%20Analytics/Lab_7/Lab7_Marcin_Bereznicki.ipynb#ch0000009?line=4'>5</a>\u001b[0m az\u001b[39m.\u001b[39mplot_compare(loo)\n",
      "File \u001b[1;32mE:\\Programowanie\\Anaconda\\envs\\marcinbereznicki\\lib\\site-packages\\arviz\\stats\\stats.py:212\u001b[0m, in \u001b[0;36mcompare\u001b[1;34m(dataset_dict, ic, method, b_samples, alpha, seed, scale)\u001b[0m\n\u001b[0;32m    <a href='file:///e%3A/Programowanie/Anaconda/envs/marcinbereznicki/lib/site-packages/arviz/stats/stats.py?line=209'>210</a>\u001b[0m \u001b[39mfor\u001b[39;00m name, dataset \u001b[39min\u001b[39;00m dataset_dict\u001b[39m.\u001b[39mitems():\n\u001b[0;32m    <a href='file:///e%3A/Programowanie/Anaconda/envs/marcinbereznicki/lib/site-packages/arviz/stats/stats.py?line=210'>211</a>\u001b[0m     names\u001b[39m.\u001b[39mappend(name)\n\u001b[1;32m--> <a href='file:///e%3A/Programowanie/Anaconda/envs/marcinbereznicki/lib/site-packages/arviz/stats/stats.py?line=211'>212</a>\u001b[0m     ics \u001b[39m=\u001b[39m ics\u001b[39m.\u001b[39mappend([ic_func(dataset, pointwise\u001b[39m=\u001b[39;49m\u001b[39mTrue\u001b[39;49;00m, scale\u001b[39m=\u001b[39;49mscale)])\n\u001b[0;32m    <a href='file:///e%3A/Programowanie/Anaconda/envs/marcinbereznicki/lib/site-packages/arviz/stats/stats.py?line=212'>213</a>\u001b[0m ics\u001b[39m.\u001b[39mindex \u001b[39m=\u001b[39m names\n\u001b[0;32m    <a href='file:///e%3A/Programowanie/Anaconda/envs/marcinbereznicki/lib/site-packages/arviz/stats/stats.py?line=213'>214</a>\u001b[0m ics\u001b[39m.\u001b[39msort_values(by\u001b[39m=\u001b[39mic, inplace\u001b[39m=\u001b[39m\u001b[39mTrue\u001b[39;00m, ascending\u001b[39m=\u001b[39mascending)\n",
      "File \u001b[1;32mE:\\Programowanie\\Anaconda\\envs\\marcinbereznicki\\lib\\site-packages\\arviz\\stats\\stats.py:618\u001b[0m, in \u001b[0;36mloo\u001b[1;34m(data, pointwise, var_name, reff, scale)\u001b[0m\n\u001b[0;32m    <a href='file:///e%3A/Programowanie/Anaconda/envs/marcinbereznicki/lib/site-packages/arviz/stats/stats.py?line=553'>554</a>\u001b[0m \u001b[39m\"\"\"Compute Pareto-smoothed importance sampling leave-one-out cross-validation (PSIS-LOO-CV).\u001b[39;00m\n\u001b[0;32m    <a href='file:///e%3A/Programowanie/Anaconda/envs/marcinbereznicki/lib/site-packages/arviz/stats/stats.py?line=554'>555</a>\u001b[0m \n\u001b[0;32m    <a href='file:///e%3A/Programowanie/Anaconda/envs/marcinbereznicki/lib/site-packages/arviz/stats/stats.py?line=555'>556</a>\u001b[0m \u001b[39mEstimates the expected log pointwise predictive density (elpd) using Pareto-smoothed\u001b[39;00m\n\u001b[1;32m   (...)\u001b[0m\n\u001b[0;32m    <a href='file:///e%3A/Programowanie/Anaconda/envs/marcinbereznicki/lib/site-packages/arviz/stats/stats.py?line=614'>615</a>\u001b[0m \u001b[39m       ...: data_loo.loo_i\u001b[39;00m\n\u001b[0;32m    <a href='file:///e%3A/Programowanie/Anaconda/envs/marcinbereznicki/lib/site-packages/arviz/stats/stats.py?line=615'>616</a>\u001b[0m \u001b[39m\"\"\"\u001b[39;00m\n\u001b[0;32m    <a href='file:///e%3A/Programowanie/Anaconda/envs/marcinbereznicki/lib/site-packages/arviz/stats/stats.py?line=616'>617</a>\u001b[0m inference_data \u001b[39m=\u001b[39m convert_to_inference_data(data)\n\u001b[1;32m--> <a href='file:///e%3A/Programowanie/Anaconda/envs/marcinbereznicki/lib/site-packages/arviz/stats/stats.py?line=617'>618</a>\u001b[0m log_likelihood \u001b[39m=\u001b[39m _get_log_likelihood(inference_data, var_name\u001b[39m=\u001b[39;49mvar_name)\n\u001b[0;32m    <a href='file:///e%3A/Programowanie/Anaconda/envs/marcinbereznicki/lib/site-packages/arviz/stats/stats.py?line=618'>619</a>\u001b[0m pointwise \u001b[39m=\u001b[39m rcParams[\u001b[39m\"\u001b[39m\u001b[39mstats.ic_pointwise\u001b[39m\u001b[39m\"\u001b[39m] \u001b[39mif\u001b[39;00m pointwise \u001b[39mis\u001b[39;00m \u001b[39mNone\u001b[39;00m \u001b[39melse\u001b[39;00m pointwise\n\u001b[0;32m    <a href='file:///e%3A/Programowanie/Anaconda/envs/marcinbereznicki/lib/site-packages/arviz/stats/stats.py?line=620'>621</a>\u001b[0m log_likelihood \u001b[39m=\u001b[39m log_likelihood\u001b[39m.\u001b[39mstack(sample\u001b[39m=\u001b[39m(\u001b[39m\"\u001b[39m\u001b[39mchain\u001b[39m\u001b[39m\"\u001b[39m, \u001b[39m\"\u001b[39m\u001b[39mdraw\u001b[39m\u001b[39m\"\u001b[39m))\n",
      "File \u001b[1;32mE:\\Programowanie\\Anaconda\\envs\\marcinbereznicki\\lib\\site-packages\\arviz\\stats\\stats_utils.py:422\u001b[0m, in \u001b[0;36mget_log_likelihood\u001b[1;34m(idata, var_name)\u001b[0m\n\u001b[0;32m    <a href='file:///e%3A/Programowanie/Anaconda/envs/marcinbereznicki/lib/site-packages/arviz/stats/stats_utils.py?line=419'>420</a>\u001b[0m     \u001b[39mreturn\u001b[39;00m idata\u001b[39m.\u001b[39msample_stats\u001b[39m.\u001b[39mlog_likelihood\n\u001b[0;32m    <a href='file:///e%3A/Programowanie/Anaconda/envs/marcinbereznicki/lib/site-packages/arviz/stats/stats_utils.py?line=420'>421</a>\u001b[0m \u001b[39mif\u001b[39;00m \u001b[39mnot\u001b[39;00m \u001b[39mhasattr\u001b[39m(idata, \u001b[39m\"\u001b[39m\u001b[39mlog_likelihood\u001b[39m\u001b[39m\"\u001b[39m):\n\u001b[1;32m--> <a href='file:///e%3A/Programowanie/Anaconda/envs/marcinbereznicki/lib/site-packages/arviz/stats/stats_utils.py?line=421'>422</a>\u001b[0m     \u001b[39mraise\u001b[39;00m \u001b[39mTypeError\u001b[39;00m(\u001b[39m\"\u001b[39m\u001b[39mlog likelihood not found in inference data object\u001b[39m\u001b[39m\"\u001b[39m)\n\u001b[0;32m    <a href='file:///e%3A/Programowanie/Anaconda/envs/marcinbereznicki/lib/site-packages/arviz/stats/stats_utils.py?line=422'>423</a>\u001b[0m \u001b[39mif\u001b[39;00m var_name \u001b[39mis\u001b[39;00m \u001b[39mNone\u001b[39;00m:\n\u001b[0;32m    <a href='file:///e%3A/Programowanie/Anaconda/envs/marcinbereznicki/lib/site-packages/arviz/stats/stats_utils.py?line=423'>424</a>\u001b[0m     var_names \u001b[39m=\u001b[39m \u001b[39mlist\u001b[39m(idata\u001b[39m.\u001b[39mlog_likelihood\u001b[39m.\u001b[39mdata_vars)\n",
      "\u001b[1;31mTypeError\u001b[0m: log likelihood not found in inference data object"
     ]
    }
   ],
   "source": [
    "data_com = dict(r3 = result_3_1, r4 = result_4_1)\n",
    "loo = az.compare(data_com, ic = \"loo\")\n",
    "\n",
    "print(loo)\n",
    "az.plot_compare(loo)"
   ]
  },
  {
   "cell_type": "code",
   "execution_count": null,
   "metadata": {},
   "outputs": [
    {
     "name": "stderr",
     "output_type": "stream",
     "text": [
      "INFO:cmdstanpy:found newer exe file, not recompiling\n",
      "INFO:cmdstanpy:compiled model file: E:/Programowanie/Microsoft VS Code Projects/Data Analytics/Lab_7/code_5.exe\n"
     ]
    }
   ],
   "source": [
    "model_5 = CmdStanModel(stan_file = 'code_5.stan')"
   ]
  }
 ],
 "metadata": {
  "interpreter": {
   "hash": "44ce9bd82db0ac3c99171c89d8b5f2a0560cec3cd37444a02d931e86e94017f2"
  },
  "kernelspec": {
   "display_name": "Python 3.9.4 ('base')",
   "language": "python",
   "name": "python3"
  },
  "language_info": {
   "codemirror_mode": {
    "name": "ipython",
    "version": 3
   },
   "file_extension": ".py",
   "mimetype": "text/x-python",
   "name": "python",
   "nbconvert_exporter": "python",
   "pygments_lexer": "ipython3",
   "version": "3.9.4"
  },
  "orig_nbformat": 4
 },
 "nbformat": 4,
 "nbformat_minor": 2
}
