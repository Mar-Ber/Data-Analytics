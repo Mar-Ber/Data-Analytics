{
 "cells": [
  {
   "cell_type": "code",
   "execution_count": 1,
   "metadata": {},
   "outputs": [],
   "source": [
    "from cmdstanpy import CmdStanModel\n",
    "\n",
    "import arviz as az\n",
    "import numpy as np\n",
    "import scipy.stats as stats\n",
    "\n",
    "import pandas as pd\n",
    "\n",
    "import matplotlib.pyplot as plt\n",
    "import matplotlib as mpl"
   ]
  },
  {
   "cell_type": "code",
   "execution_count": 2,
   "metadata": {},
   "outputs": [],
   "source": [
    "F = 6\n",
    "L = 10\n",
    "N = (F+L)*100\n",
    "data = dict(N=N)"
   ]
  },
  {
   "cell_type": "markdown",
   "metadata": {},
   "source": [
    "### Exercise 1"
   ]
  },
  {
   "cell_type": "code",
   "execution_count": 3,
   "metadata": {},
   "outputs": [
    {
     "name": "stderr",
     "output_type": "stream",
     "text": [
      "INFO:cmdstanpy:found newer exe file, not recompiling\n",
      "INFO:cmdstanpy:compiled model file: E:/Programowanie/Microsoft VS Code Projects/Data Analytics/Lab_7/code_1.exe\n",
      "INFO:cmdstanpy:start chain 1\n",
      "INFO:cmdstanpy:finish chain 1\n"
     ]
    }
   ],
   "source": [
    "model_1 = CmdStanModel(stan_file='code_1.stan')\n",
    "result_1 = model_1.sample(data = data, fixed_param=True)"
   ]
  },
  {
   "cell_type": "code",
   "execution_count": 4,
   "metadata": {},
   "outputs": [
    {
     "name": "stderr",
     "output_type": "stream",
     "text": [
      "INFO:cmdstanpy:found newer exe file, not recompiling\n",
      "INFO:cmdstanpy:compiled model file: E:/Programowanie/Microsoft VS Code Projects/Data Analytics/Lab_7/code_2.exe\n",
      "INFO:cmdstanpy:start chain 1\n",
      "INFO:cmdstanpy:finish chain 1\n"
     ]
    }
   ],
   "source": [
    "model_2=CmdStanModel(stan_file='code_2.stan')\n",
    "result_2 = model_2.sample(data = data, fixed_param=True)"
   ]
  },
  {
   "cell_type": "code",
   "execution_count": 5,
   "metadata": {},
   "outputs": [
    {
     "name": "stdout",
     "output_type": "stream",
     "text": [
      "\n"
     ]
    }
   ],
   "source": [
    "r2 = result_2.draws_pd()\n",
    "print()"
   ]
  },
  {
   "cell_type": "code",
   "execution_count": 6,
   "metadata": {},
   "outputs": [
    {
     "name": "stdout",
     "output_type": "stream",
     "text": [
      "         y[1]      y[2]     y[3]      y[4]      y[5]      y[6]      y[7]  \\\n",
      "0   -1.291810 -1.177580  2.41721 -1.583400 -0.489599 -0.952737  3.299640   \n",
      "1    4.404450 -0.378702  1.67253  0.122787  4.317140  1.584590 -2.109390   \n",
      "2    2.073900  0.640588  5.08939  1.311970 -0.800228 -1.501030 -0.391111   \n",
      "3   -1.164390  5.095590 -5.80122 -0.926347  2.214370  1.450060  0.501511   \n",
      "4   -1.054790 -0.913334  1.02330  3.607040  5.393690  0.422639 -3.102710   \n",
      "..        ...       ...      ...       ...       ...       ...       ...   \n",
      "995 -0.812947 -1.697340  3.51225 -0.872209  5.635990 -1.197060  4.400030   \n",
      "996  2.305910  0.786190  4.25016  1.290320  4.020900 -0.423716  1.534950   \n",
      "997 -1.025940  0.471278 -2.15642  2.963310 -1.686800 -0.030248  3.080830   \n",
      "998 -0.239833 -2.906790  2.28862 -0.293593 -0.552420 -3.245960 -3.086190   \n",
      "999 -0.341729  1.022970  2.97864  0.088453  0.965536  1.217790  0.141311   \n",
      "\n",
      "         y[8]      y[9]     y[10]  ...   y[1591]   y[1592]   y[1593]  \\\n",
      "0    0.728218  2.502210  3.273000  ... -2.724730 -2.249530 -3.011320   \n",
      "1    0.717973 -0.181796  0.843336  ...  1.352440 -3.544330 -3.266440   \n",
      "2   -2.260390 -0.620376 -0.569125  ...  3.062740  5.285070 -0.167089   \n",
      "3    0.931942  2.361590 -1.811660  ... -3.251230 -2.252140 -5.091970   \n",
      "4   -1.653460  1.412590 -1.598920  ... -0.327540  4.641410 -0.079713   \n",
      "..        ...       ...       ...  ...       ...       ...       ...   \n",
      "995 -1.549870  0.054344 -1.535500  ...  3.164000  1.084000 -1.941570   \n",
      "996  0.656946 -2.056070  0.858390  ... -6.119570  0.601385 -2.398690   \n",
      "997  1.076630  2.042890  4.912300  ... -2.750560 -1.001260  0.564987   \n",
      "998 -1.767960  0.651710  1.391190  ... -0.923541  3.702400 -0.504189   \n",
      "999 -4.057850 -1.766770  3.376940  ...  0.258115 -0.758147 -2.964800   \n",
      "\n",
      "      y[1594]   y[1595]   y[1596]   y[1597]   y[1598]   y[1599]   y[1600]  \n",
      "0    0.783408 -3.224080 -1.546490  1.893950  0.959741  0.774866 -1.530790  \n",
      "1   -2.458240 -0.053046 -0.711486 -4.357060  1.148120  0.161673 -1.170040  \n",
      "2   -4.172920  3.872330  0.059742  1.087920  2.586020 -2.430470 -2.118180  \n",
      "3   -0.341969 -6.394620  1.688480 -1.109110 -0.997941 -3.235400 -1.930420  \n",
      "4   -3.516040  0.990497 -0.982825 -1.565170  5.064790  0.477961  3.148980  \n",
      "..        ...       ...       ...       ...       ...       ...       ...  \n",
      "995 -1.113170  0.382402 -1.595370 -1.141350 -0.111285 -0.952882 -3.929840  \n",
      "996 -0.889249  0.086588  3.634860 -3.702140 -4.155440  3.914710  2.775770  \n",
      "997  3.128270 -1.364230 -1.556040 -0.157219  2.146880 -2.465520  3.082160  \n",
      "998 -1.127750 -1.414950  2.452660  2.602230  3.683310  1.490910 -0.747636  \n",
      "999  2.245660 -1.977300 -3.117500  0.353524 -0.995064  0.837429  4.673390  \n",
      "\n",
      "[1000 rows x 1600 columns]\n"
     ]
    }
   ],
   "source": [
    "r1 = result_1.draws_pd()\n",
    "r1 = r1.iloc[:,3:]\n",
    "r1_m = r1.mean().tolist()\n",
    "\n",
    "r2 = result_2.draws_pd()\n",
    "r2 = r2.iloc[:,4805:]\n",
    "r2_m = r2.mean().tolist()\n",
    "\n",
    "print(r2)\n"
   ]
  },
  {
   "cell_type": "markdown",
   "metadata": {},
   "source": [
    "### Exercise 2"
   ]
  },
  {
   "cell_type": "code",
   "execution_count": 7,
   "metadata": {},
   "outputs": [
    {
     "name": "stderr",
     "output_type": "stream",
     "text": [
      "INFO:cmdstanpy:found newer exe file, not recompiling\n",
      "INFO:cmdstanpy:compiled model file: E:/Programowanie/Microsoft VS Code Projects/Data Analytics/Lab_7/code_3.exe\n",
      "INFO:cmdstanpy:start chain 1\n",
      "INFO:cmdstanpy:finish chain 1\n",
      "INFO:cmdstanpy:start chain 1\n",
      "INFO:cmdstanpy:finish chain 1\n"
     ]
    }
   ],
   "source": [
    "model_3=CmdStanModel(stan_file='code_3.stan')\n",
    "\n",
    "data_r1=dict(N=N, y=r1_m)\n",
    "data_r2=dict(N=N, y=r2_m)\n",
    "result_3_1 = model_3.sample(data=data_r1, fixed_param=True)\n",
    "result_3_2 = model_3.sample(data=data_r2, fixed_param=True)"
   ]
  },
  {
   "cell_type": "code",
   "execution_count": 8,
   "metadata": {},
   "outputs": [
    {
     "name": "stderr",
     "output_type": "stream",
     "text": [
      "INFO:cmdstanpy:found newer exe file, not recompiling\n",
      "INFO:cmdstanpy:compiled model file: E:/Programowanie/Microsoft VS Code Projects/Data Analytics/Lab_7/code_4.exe\n",
      "INFO:cmdstanpy:start chain 1\n",
      "INFO:cmdstanpy:start chain 2\n",
      "INFO:cmdstanpy:start chain 3\n",
      "INFO:cmdstanpy:start chain 4\n",
      "INFO:cmdstanpy:finish chain 4\n",
      "INFO:cmdstanpy:finish chain 2\n",
      "INFO:cmdstanpy:finish chain 3\n",
      "INFO:cmdstanpy:finish chain 1\n",
      "INFO:cmdstanpy:start chain 1\n",
      "INFO:cmdstanpy:start chain 2\n",
      "INFO:cmdstanpy:start chain 3\n",
      "INFO:cmdstanpy:start chain 4\n",
      "INFO:cmdstanpy:finish chain 3\n",
      "INFO:cmdstanpy:finish chain 4\n",
      "INFO:cmdstanpy:finish chain 1\n",
      "INFO:cmdstanpy:finish chain 2\n"
     ]
    }
   ],
   "source": [
    "model_4=CmdStanModel(stan_file='code_4.stan')\n",
    "\n",
    "result_4_1 = model_4.sample(data=data_r1)\n",
    "result_4_2 = model_4.sample(data=data_r2)"
   ]
  },
  {
   "cell_type": "code",
   "execution_count": 9,
   "metadata": {},
   "outputs": [
    {
     "data": {
      "text/html": [
       "<div>\n",
       "<style scoped>\n",
       "    .dataframe tbody tr th:only-of-type {\n",
       "        vertical-align: middle;\n",
       "    }\n",
       "\n",
       "    .dataframe tbody tr th {\n",
       "        vertical-align: top;\n",
       "    }\n",
       "\n",
       "    .dataframe thead th {\n",
       "        text-align: right;\n",
       "    }\n",
       "</style>\n",
       "<table border=\"1\" class=\"dataframe\">\n",
       "  <thead>\n",
       "    <tr style=\"text-align: right;\">\n",
       "      <th></th>\n",
       "      <th>Mean</th>\n",
       "      <th>MCSE</th>\n",
       "      <th>StdDev</th>\n",
       "      <th>5%</th>\n",
       "      <th>50%</th>\n",
       "      <th>95%</th>\n",
       "      <th>N_Eff</th>\n",
       "      <th>N_Eff/s</th>\n",
       "      <th>R_hat</th>\n",
       "    </tr>\n",
       "    <tr>\n",
       "      <th>name</th>\n",
       "      <th></th>\n",
       "      <th></th>\n",
       "      <th></th>\n",
       "      <th></th>\n",
       "      <th></th>\n",
       "      <th></th>\n",
       "      <th></th>\n",
       "      <th></th>\n",
       "      <th></th>\n",
       "    </tr>\n",
       "  </thead>\n",
       "  <tbody>\n",
       "    <tr>\n",
       "      <th>lp__</th>\n",
       "      <td>0.00</td>\n",
       "      <td>NaN</td>\n",
       "      <td>0.000000e+00</td>\n",
       "      <td>0.00</td>\n",
       "      <td>0.00</td>\n",
       "      <td>0.00</td>\n",
       "      <td>NaN</td>\n",
       "      <td>NaN</td>\n",
       "      <td>NaN</td>\n",
       "    </tr>\n",
       "    <tr>\n",
       "      <th>sigma</th>\n",
       "      <td>0.22</td>\n",
       "      <td>NaN</td>\n",
       "      <td>1.000000e-15</td>\n",
       "      <td>0.22</td>\n",
       "      <td>0.22</td>\n",
       "      <td>0.22</td>\n",
       "      <td>NaN</td>\n",
       "      <td>NaN</td>\n",
       "      <td>NaN</td>\n",
       "    </tr>\n",
       "    <tr>\n",
       "      <th>mu</th>\n",
       "      <td>1.10</td>\n",
       "      <td>NaN</td>\n",
       "      <td>4.400000e-16</td>\n",
       "      <td>1.10</td>\n",
       "      <td>1.10</td>\n",
       "      <td>1.10</td>\n",
       "      <td>NaN</td>\n",
       "      <td>NaN</td>\n",
       "      <td>NaN</td>\n",
       "    </tr>\n",
       "    <tr>\n",
       "      <th>log_lik[1]</th>\n",
       "      <td>-9.20</td>\n",
       "      <td>NaN</td>\n",
       "      <td>1.800000e-14</td>\n",
       "      <td>-9.20</td>\n",
       "      <td>-9.20</td>\n",
       "      <td>-9.20</td>\n",
       "      <td>NaN</td>\n",
       "      <td>NaN</td>\n",
       "      <td>NaN</td>\n",
       "    </tr>\n",
       "    <tr>\n",
       "      <th>log_lik[2]</th>\n",
       "      <td>-11.00</td>\n",
       "      <td>NaN</td>\n",
       "      <td>5.300000e-14</td>\n",
       "      <td>-11.00</td>\n",
       "      <td>-11.00</td>\n",
       "      <td>-11.00</td>\n",
       "      <td>NaN</td>\n",
       "      <td>NaN</td>\n",
       "      <td>NaN</td>\n",
       "    </tr>\n",
       "    <tr>\n",
       "      <th>...</th>\n",
       "      <td>...</td>\n",
       "      <td>...</td>\n",
       "      <td>...</td>\n",
       "      <td>...</td>\n",
       "      <td>...</td>\n",
       "      <td>...</td>\n",
       "      <td>...</td>\n",
       "      <td>...</td>\n",
       "      <td>...</td>\n",
       "    </tr>\n",
       "    <tr>\n",
       "      <th>y_hat[1596]</th>\n",
       "      <td>1.20</td>\n",
       "      <td>0.0080</td>\n",
       "      <td>2.300000e-01</td>\n",
       "      <td>0.77</td>\n",
       "      <td>1.20</td>\n",
       "      <td>1.50</td>\n",
       "      <td>815.0</td>\n",
       "      <td>163.0</td>\n",
       "      <td>1.0</td>\n",
       "    </tr>\n",
       "    <tr>\n",
       "      <th>y_hat[1597]</th>\n",
       "      <td>1.10</td>\n",
       "      <td>0.0071</td>\n",
       "      <td>2.200000e-01</td>\n",
       "      <td>0.77</td>\n",
       "      <td>1.10</td>\n",
       "      <td>1.50</td>\n",
       "      <td>979.0</td>\n",
       "      <td>195.0</td>\n",
       "      <td>1.0</td>\n",
       "    </tr>\n",
       "    <tr>\n",
       "      <th>y_hat[1598]</th>\n",
       "      <td>1.10</td>\n",
       "      <td>0.0073</td>\n",
       "      <td>2.200000e-01</td>\n",
       "      <td>0.78</td>\n",
       "      <td>1.10</td>\n",
       "      <td>1.50</td>\n",
       "      <td>937.0</td>\n",
       "      <td>187.0</td>\n",
       "      <td>1.0</td>\n",
       "    </tr>\n",
       "    <tr>\n",
       "      <th>y_hat[1599]</th>\n",
       "      <td>1.10</td>\n",
       "      <td>0.0070</td>\n",
       "      <td>2.200000e-01</td>\n",
       "      <td>0.76</td>\n",
       "      <td>1.10</td>\n",
       "      <td>1.50</td>\n",
       "      <td>1017.0</td>\n",
       "      <td>203.0</td>\n",
       "      <td>1.0</td>\n",
       "    </tr>\n",
       "    <tr>\n",
       "      <th>y_hat[1600]</th>\n",
       "      <td>1.10</td>\n",
       "      <td>0.0078</td>\n",
       "      <td>2.300000e-01</td>\n",
       "      <td>0.76</td>\n",
       "      <td>1.10</td>\n",
       "      <td>1.50</td>\n",
       "      <td>901.0</td>\n",
       "      <td>180.0</td>\n",
       "      <td>1.0</td>\n",
       "    </tr>\n",
       "  </tbody>\n",
       "</table>\n",
       "<p>3203 rows × 9 columns</p>\n",
       "</div>"
      ],
      "text/plain": [
       "              Mean    MCSE        StdDev     5%    50%    95%   N_Eff  \\\n",
       "name                                                                    \n",
       "lp__          0.00     NaN  0.000000e+00   0.00   0.00   0.00     NaN   \n",
       "sigma         0.22     NaN  1.000000e-15   0.22   0.22   0.22     NaN   \n",
       "mu            1.10     NaN  4.400000e-16   1.10   1.10   1.10     NaN   \n",
       "log_lik[1]   -9.20     NaN  1.800000e-14  -9.20  -9.20  -9.20     NaN   \n",
       "log_lik[2]  -11.00     NaN  5.300000e-14 -11.00 -11.00 -11.00     NaN   \n",
       "...            ...     ...           ...    ...    ...    ...     ...   \n",
       "y_hat[1596]   1.20  0.0080  2.300000e-01   0.77   1.20   1.50   815.0   \n",
       "y_hat[1597]   1.10  0.0071  2.200000e-01   0.77   1.10   1.50   979.0   \n",
       "y_hat[1598]   1.10  0.0073  2.200000e-01   0.78   1.10   1.50   937.0   \n",
       "y_hat[1599]   1.10  0.0070  2.200000e-01   0.76   1.10   1.50  1017.0   \n",
       "y_hat[1600]   1.10  0.0078  2.300000e-01   0.76   1.10   1.50   901.0   \n",
       "\n",
       "             N_Eff/s  R_hat  \n",
       "name                         \n",
       "lp__             NaN    NaN  \n",
       "sigma            NaN    NaN  \n",
       "mu               NaN    NaN  \n",
       "log_lik[1]       NaN    NaN  \n",
       "log_lik[2]       NaN    NaN  \n",
       "...              ...    ...  \n",
       "y_hat[1596]    163.0    1.0  \n",
       "y_hat[1597]    195.0    1.0  \n",
       "y_hat[1598]    187.0    1.0  \n",
       "y_hat[1599]    203.0    1.0  \n",
       "y_hat[1600]    180.0    1.0  \n",
       "\n",
       "[3203 rows x 9 columns]"
      ]
     },
     "execution_count": 9,
     "metadata": {},
     "output_type": "execute_result"
    }
   ],
   "source": [
    "result_3_1.summary()"
   ]
  },
  {
   "cell_type": "code",
   "execution_count": 10,
   "metadata": {},
   "outputs": [
    {
     "ename": "TypeError",
     "evalue": "log likelihood not found in inference data object",
     "output_type": "error",
     "traceback": [
      "\u001b[1;31m---------------------------------------------------------------------------\u001b[0m",
      "\u001b[1;31mTypeError\u001b[0m                                 Traceback (most recent call last)",
      "\u001b[1;32me:\\Programowanie\\Microsoft VS Code Projects\\Data Analytics\\Lab_7\\Lab7_Marcin_Bereznicki.ipynb Cell 12'\u001b[0m in \u001b[0;36m<cell line: 1>\u001b[1;34m()\u001b[0m\n\u001b[1;32m----> <a href='vscode-notebook-cell:/e%3A/Programowanie/Microsoft%20VS%20Code%20Projects/Data%20Analytics/Lab_7/Lab7_Marcin_Bereznicki.ipynb#ch0000009?line=0'>1</a>\u001b[0m az\u001b[39m.\u001b[39;49mloo(result_3_1)\n\u001b[0;32m      <a href='vscode-notebook-cell:/e%3A/Programowanie/Microsoft%20VS%20Code%20Projects/Data%20Analytics/Lab_7/Lab7_Marcin_Bereznicki.ipynb#ch0000009?line=1'>2</a>\u001b[0m az\u001b[39m.\u001b[39mwaic(result_3_1)\n",
      "File \u001b[1;32mE:\\Programowanie\\Anaconda\\envs\\marcinbereznicki\\lib\\site-packages\\arviz\\stats\\stats.py:618\u001b[0m, in \u001b[0;36mloo\u001b[1;34m(data, pointwise, var_name, reff, scale)\u001b[0m\n\u001b[0;32m    <a href='file:///e%3A/Programowanie/Anaconda/envs/marcinbereznicki/lib/site-packages/arviz/stats/stats.py?line=553'>554</a>\u001b[0m \u001b[39m\"\"\"Compute Pareto-smoothed importance sampling leave-one-out cross-validation (PSIS-LOO-CV).\u001b[39;00m\n\u001b[0;32m    <a href='file:///e%3A/Programowanie/Anaconda/envs/marcinbereznicki/lib/site-packages/arviz/stats/stats.py?line=554'>555</a>\u001b[0m \n\u001b[0;32m    <a href='file:///e%3A/Programowanie/Anaconda/envs/marcinbereznicki/lib/site-packages/arviz/stats/stats.py?line=555'>556</a>\u001b[0m \u001b[39mEstimates the expected log pointwise predictive density (elpd) using Pareto-smoothed\u001b[39;00m\n\u001b[1;32m   (...)\u001b[0m\n\u001b[0;32m    <a href='file:///e%3A/Programowanie/Anaconda/envs/marcinbereznicki/lib/site-packages/arviz/stats/stats.py?line=614'>615</a>\u001b[0m \u001b[39m       ...: data_loo.loo_i\u001b[39;00m\n\u001b[0;32m    <a href='file:///e%3A/Programowanie/Anaconda/envs/marcinbereznicki/lib/site-packages/arviz/stats/stats.py?line=615'>616</a>\u001b[0m \u001b[39m\"\"\"\u001b[39;00m\n\u001b[0;32m    <a href='file:///e%3A/Programowanie/Anaconda/envs/marcinbereznicki/lib/site-packages/arviz/stats/stats.py?line=616'>617</a>\u001b[0m inference_data \u001b[39m=\u001b[39m convert_to_inference_data(data)\n\u001b[1;32m--> <a href='file:///e%3A/Programowanie/Anaconda/envs/marcinbereznicki/lib/site-packages/arviz/stats/stats.py?line=617'>618</a>\u001b[0m log_likelihood \u001b[39m=\u001b[39m _get_log_likelihood(inference_data, var_name\u001b[39m=\u001b[39;49mvar_name)\n\u001b[0;32m    <a href='file:///e%3A/Programowanie/Anaconda/envs/marcinbereznicki/lib/site-packages/arviz/stats/stats.py?line=618'>619</a>\u001b[0m pointwise \u001b[39m=\u001b[39m rcParams[\u001b[39m\"\u001b[39m\u001b[39mstats.ic_pointwise\u001b[39m\u001b[39m\"\u001b[39m] \u001b[39mif\u001b[39;00m pointwise \u001b[39mis\u001b[39;00m \u001b[39mNone\u001b[39;00m \u001b[39melse\u001b[39;00m pointwise\n\u001b[0;32m    <a href='file:///e%3A/Programowanie/Anaconda/envs/marcinbereznicki/lib/site-packages/arviz/stats/stats.py?line=620'>621</a>\u001b[0m log_likelihood \u001b[39m=\u001b[39m log_likelihood\u001b[39m.\u001b[39mstack(sample\u001b[39m=\u001b[39m(\u001b[39m\"\u001b[39m\u001b[39mchain\u001b[39m\u001b[39m\"\u001b[39m, \u001b[39m\"\u001b[39m\u001b[39mdraw\u001b[39m\u001b[39m\"\u001b[39m))\n",
      "File \u001b[1;32mE:\\Programowanie\\Anaconda\\envs\\marcinbereznicki\\lib\\site-packages\\arviz\\stats\\stats_utils.py:422\u001b[0m, in \u001b[0;36mget_log_likelihood\u001b[1;34m(idata, var_name)\u001b[0m\n\u001b[0;32m    <a href='file:///e%3A/Programowanie/Anaconda/envs/marcinbereznicki/lib/site-packages/arviz/stats/stats_utils.py?line=419'>420</a>\u001b[0m     \u001b[39mreturn\u001b[39;00m idata\u001b[39m.\u001b[39msample_stats\u001b[39m.\u001b[39mlog_likelihood\n\u001b[0;32m    <a href='file:///e%3A/Programowanie/Anaconda/envs/marcinbereznicki/lib/site-packages/arviz/stats/stats_utils.py?line=420'>421</a>\u001b[0m \u001b[39mif\u001b[39;00m \u001b[39mnot\u001b[39;00m \u001b[39mhasattr\u001b[39m(idata, \u001b[39m\"\u001b[39m\u001b[39mlog_likelihood\u001b[39m\u001b[39m\"\u001b[39m):\n\u001b[1;32m--> <a href='file:///e%3A/Programowanie/Anaconda/envs/marcinbereznicki/lib/site-packages/arviz/stats/stats_utils.py?line=421'>422</a>\u001b[0m     \u001b[39mraise\u001b[39;00m \u001b[39mTypeError\u001b[39;00m(\u001b[39m\"\u001b[39m\u001b[39mlog likelihood not found in inference data object\u001b[39m\u001b[39m\"\u001b[39m)\n\u001b[0;32m    <a href='file:///e%3A/Programowanie/Anaconda/envs/marcinbereznicki/lib/site-packages/arviz/stats/stats_utils.py?line=422'>423</a>\u001b[0m \u001b[39mif\u001b[39;00m var_name \u001b[39mis\u001b[39;00m \u001b[39mNone\u001b[39;00m:\n\u001b[0;32m    <a href='file:///e%3A/Programowanie/Anaconda/envs/marcinbereznicki/lib/site-packages/arviz/stats/stats_utils.py?line=423'>424</a>\u001b[0m     var_names \u001b[39m=\u001b[39m \u001b[39mlist\u001b[39m(idata\u001b[39m.\u001b[39mlog_likelihood\u001b[39m.\u001b[39mdata_vars)\n",
      "\u001b[1;31mTypeError\u001b[0m: log likelihood not found in inference data object"
     ]
    }
   ],
   "source": [
    "az.loo(result_3_1)\n",
    "az.waic(result_3_1)"
   ]
  },
  {
   "cell_type": "code",
   "execution_count": null,
   "metadata": {},
   "outputs": [
    {
     "name": "stderr",
     "output_type": "stream",
     "text": [
      "INFO:cmdstanpy:found newer exe file, not recompiling\n",
      "INFO:cmdstanpy:compiled model file: E:/Programowanie/Microsoft VS Code Projects/Data Analytics/Lab_7/code_5.exe\n"
     ]
    }
   ],
   "source": [
    "model_5=CmdStanModel(stan_file='code_5.stan')"
   ]
  }
 ],
 "metadata": {
  "interpreter": {
   "hash": "44ce9bd82db0ac3c99171c89d8b5f2a0560cec3cd37444a02d931e86e94017f2"
  },
  "kernelspec": {
   "display_name": "Python 3.9.4 ('base')",
   "language": "python",
   "name": "python3"
  },
  "language_info": {
   "codemirror_mode": {
    "name": "ipython",
    "version": 3
   },
   "file_extension": ".py",
   "mimetype": "text/x-python",
   "name": "python",
   "nbconvert_exporter": "python",
   "pygments_lexer": "ipython3",
   "version": "3.9.4"
  },
  "orig_nbformat": 4
 },
 "nbformat": 4,
 "nbformat_minor": 2
}
